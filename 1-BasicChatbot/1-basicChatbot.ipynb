{
 "cells": [
  {
   "cell_type": "markdown",
   "id": "a3d71216",
   "metadata": {},
   "source": [
    "### Build a basic chatbot"
   ]
  },
  {
   "cell_type": "code",
   "execution_count": 1,
   "id": "000bb0c7",
   "metadata": {},
   "outputs": [],
   "source": [
    "from typing import Annotated\n",
    "# the annotated is use for 'combbining a type with extra metadata'\n",
    "from typing_extensions import TypedDict\n",
    "from langgraph.graph import StateGraph,START,END\n",
    "from langgraph.graph.message import add_messages\n",
    "# add_messages is a reducer"
   ]
  },
  {
   "cell_type": "code",
   "execution_count": null,
   "id": "a3664fd5",
   "metadata": {},
   "outputs": [],
   "source": [
    "class State(TypedDict):\n",
    "    # Messages have the type \"list\". The 'add_messages' function\n",
    "    # in the annotation defines how this state key should be updated\n",
    "    # (in this case, it append messages to the list, rather than overwriting them)\n",
    "\n",
    "    messages:Annotated[list,add_messages]\n",
    "    # The add_message function tells the langraph to update this message instead of replacing them\n",
    "\n",
    "graph_builder = StateGraph(State)\n",
    "# The graph_builder object will be used to add nodes, define logic flow and build the final graph"
   ]
  },
  {
   "cell_type": "code",
   "execution_count": null,
   "id": "a4f790a6",
   "metadata": {},
   "outputs": [
    {
     "data": {
      "text/plain": [
       "<langgraph.graph.state.StateGraph at 0x1f158995a90>"
      ]
     },
     "execution_count": 10,
     "metadata": {},
     "output_type": "execute_result"
    }
   ],
   "source": [
    "graph_builder\n",
    "# graph_builder is like the architect that lays out how our ai agent flows, step by step - it connects \n",
    "# state, steps logic and termination\n",
    "\n",
    "\n",
    "# StateGraph --> it defines the structire of our chatbot as a \"State machine\"\n",
    "# we will add nodes to represent the llm and functions our chatbot can call and edges to \n",
    "# specify how the bot should transition between these function"
   ]
  },
  {
   "cell_type": "code",
   "execution_count": 3,
   "id": "cf9e6cda",
   "metadata": {},
   "outputs": [
    {
     "data": {
      "text/plain": [
       "True"
      ]
     },
     "execution_count": 3,
     "metadata": {},
     "output_type": "execute_result"
    }
   ],
   "source": [
    "import os\n",
    "from dotenv import load_dotenv\n",
    "load_dotenv()"
   ]
  },
  {
   "cell_type": "code",
   "execution_count": 4,
   "id": "080003b7",
   "metadata": {},
   "outputs": [],
   "source": [
    "from langchain_groq import ChatGroq\n",
    "from langchain.chat_models import init_chat_model\n",
    "\n",
    "llm = ChatGroq(model=\"llama3-8b-8192\")"
   ]
  },
  {
   "cell_type": "code",
   "execution_count": 14,
   "id": "7e7fb811",
   "metadata": {},
   "outputs": [
    {
     "data": {
      "text/plain": [
       "ChatGroq(client=<groq.resources.chat.completions.Completions object at 0x000001F158F5EF90>, async_client=<groq.resources.chat.completions.AsyncCompletions object at 0x000001F158F5F8C0>, model_name='llama3-8b-8192', model_kwargs={}, groq_api_key=SecretStr('**********'))"
      ]
     },
     "execution_count": 14,
     "metadata": {},
     "output_type": "execute_result"
    }
   ],
   "source": [
    "llm"
   ]
  },
  {
   "cell_type": "code",
   "execution_count": 5,
   "id": "a20b7a64",
   "metadata": {},
   "outputs": [],
   "source": [
    "# Node functionality\n",
    "def chatbot(state:State):\n",
    "    return {\"messages\":[llm.invoke(state[\"messages\"])]}"
   ]
  },
  {
   "cell_type": "code",
   "execution_count": 6,
   "id": "3766f44f",
   "metadata": {},
   "outputs": [],
   "source": [
    "graph_builder= StateGraph(State)\n",
    "\n",
    "## Adding node\n",
    "graph_builder.add_node(\"llmchatbot\",chatbot)\n",
    "## Adding Edges\n",
    "graph_builder.add_edge(START,\"llmchatbot\")\n",
    "graph_builder.add_edge(\"llmchatbot\",END)\n",
    "\n",
    "## Compile the graph\n",
    "graph= graph_builder.compile()"
   ]
  },
  {
   "cell_type": "code",
   "execution_count": 19,
   "id": "c20f9c74",
   "metadata": {},
   "outputs": [
    {
     "data": {
      "image/png": "[encoded data removed]",
      "text/plain": [
       "<IPython.core.display.Image object>"
      ]
     },
     "metadata": {},
     "output_type": "display_data"
    }
   ],
   "source": [
    "## Visualize the graph \n",
    "from IPython.display import Image,display\n",
    "\n",
    "try:\n",
    "    display(Image(graph.get_graph().draw_mermaid_png()))\n",
    "except Exception:\n",
    "    pass"
   ]
  },
  {
   "cell_type": "code",
   "execution_count": 8,
   "id": "bb64bf93",
   "metadata": {},
   "outputs": [
    {
     "data": {
      "text/plain": [
       "{'messages': [HumanMessage(content='Hi', additional_kwargs={}, response_metadata={}, id='c3051f31-5318-4e95-beae-26850e1dd603'),\n",
       "  AIMessage(content=\"Hi! It's nice to meet you. Is there something I can help you with or would you like to chat?\", additional_kwargs={}, response_metadata={'token_usage': {'completion_tokens': 25, 'prompt_tokens': 11, 'total_tokens': 36, 'completion_time': 0.031768655, 'prompt_time': 0.007982144, 'queue_time': 0.489223737, 'total_time': 0.039750799}, 'model_name': 'llama3-8b-8192', 'system_fingerprint': 'fp_2717d04279', 'finish_reason': 'stop', 'logprobs': None}, id='run--dd440442-570f-4601-957f-8116d619415a-0', usage_metadata={'input_tokens': 11, 'output_tokens': 25, 'total_tokens': 36})]}"
      ]
     },
     "execution_count": 8,
     "metadata": {},
     "output_type": "execute_result"
    }
   ],
   "source": [
    "graph.invoke({\"messages\":\"Hi\"})"
   ]
  },
  {
   "cell_type": "code",
   "execution_count": 11,
   "id": "aa2dce68",
   "metadata": {},
   "outputs": [
    {
     "data": {
      "text/plain": [
       "{'messages': [HumanMessage(content='Tell me about pulchowk engineering campus', additional_kwargs={}, response_metadata={}, id='f071c355-be53-4b23-8dbe-0f3c46258e3d'),\n",
       "  AIMessage(content='Pulchowk Engineering Campus (PEC) is a prestigious institution located in Pulchowk, Lalitpur, Nepal. It is a constituent campus of the Institute of Engineering (IOE), Tribhuvan University (TU), and is one of the oldest and most reputed engineering institutions in Nepal.\\n\\nHere are some key facts about Pulchowk Engineering Campus:\\n\\n1. History: The campus was established in 1959 as the Institute of Engineering, Pulchowk, and has since become one of the most respected engineering institutions in Nepal.\\n2. Programs: PEC offers undergraduate and graduate programs in various fields of engineering, including:\\n\\t* Civil Engineering\\n\\t* Mechanical Engineering\\n\\t* Electrical Engineering\\n\\t* Computer Engineering\\n\\t* Electronics and Communication Engineering\\n\\t* Architecture\\n3. Faculty: The campus has a team of experienced and qualified faculty members who are experts in their respective fields.\\n4. Infrastructure: PEC has a well-equipped campus with modern facilities, including:\\n\\t* State-of-the-art laboratories and workshops\\n\\t* Central library with a vast collection of books, journals, and online resources\\n\\t* Seminar halls and auditoriums\\n\\t* Hostels and mess facilities for students\\n5. Research: PEC is known for its research activities in various fields of engineering, including:\\n\\t* Construction technology\\n\\t* Renewable energy\\n\\t* Computer-aided design and manufacturing\\n\\t* Telecommunications\\n6. Placement: PEC has a good placement record, with many of its graduates finding employment in top companies in Nepal and abroad.\\n7. Accreditation: PEC is accredited by the Nepal Engineering Council (NEC) and the Institute of Engineering (IOE), TU.\\n8. International collaborations: PEC has collaborations with several international institutions and organizations, including the University of Michigan, USA, and the University of Bath, UK, for research and academic exchange programs.\\n\\nPulchowk Engineering Campus is a popular choice among Nepalese students and is known for its rigorous academic programs, research opportunities, and strong industry connections.', additional_kwargs={}, response_metadata={'token_usage': {'completion_tokens': 423, 'prompt_tokens': 19, 'total_tokens': 442, 'completion_time': 0.553330173, 'prompt_time': 0.006263603, 'queue_time': 0.286559241, 'total_time': 0.559593776}, 'model_name': 'llama3-8b-8192', 'system_fingerprint': 'fp_6d1c2b0784', 'finish_reason': 'stop', 'logprobs': None}, id='run--91df4bbd-8725-467a-b93d-ee49ed44c931-0', usage_metadata={'input_tokens': 19, 'output_tokens': 423, 'total_tokens': 442})]}"
      ]
     },
     "execution_count": 11,
     "metadata": {},
     "output_type": "execute_result"
    }
   ],
   "source": [
    "graph.invoke({\"messages\":\"Tell me about pulchowk engineering campus\"})"
   ]
  },
  {
   "cell_type": "code",
   "execution_count": 13,
   "id": "ff0fb167",
   "metadata": {},
   "outputs": [
    {
     "data": {
      "text/plain": [
       "{'messages': [HumanMessage(content='https://github.com/SangamSilwal can you review this github repo', additional_kwargs={}, response_metadata={}, id='24468d98-161c-4a4e-a9ea-43e8439eded6'),\n",
       "  AIMessage(content=\"I'd be happy to help review the GitHub repository at the provided link.\\n\\n**Initial Observations**\\n\\nThe repository appears to be a personal portfolio of Sangam Silwal, a software developer. The repository contains a mix of projects and experiments in various programming languages and technologies.\\n\\n**Organization and Structure**\\n\\nThe repository is well-organized, with separate folders for each project or experiment. Each folder contains relevant files, such as code, READMEs, and sometimes even videos or images. The folder names are descriptive, making it easy to navigate and find specific projects.\\n\\n**Code Quality and Readability**\\n\\nThe code quality and readability vary across projects. Some projects have clean, well-organized code with proper indentation, comments, and variable naming. Others may require further refactoring and cleanup. There are also some projects with code that is a bit harder to read, possibly due to the use of complex algorithms or dense code.\\n\\n**Project Diversity**\\n\\nThe repository showcases a diverse range of projects, including:\\n\\n1. Web development (e.g., React, Angular, Vue.js)\\n2. Machine learning and deep learning (e.g., TensorFlow, Keras)\\n3. Data analysis and visualization (e.g., Python, Pandas, Matplotlib)\\n4. DevOps and infrastructure (e.g., Docker, Kubernetes)\\n5. Mobile app development (e.g., Flutter, React Native)\\n\\nThis diversity is a strength, as it demonstrates the developer's ability to work with different technologies and domains.\\n\\n**Documentation and READMEs**\\n\\nThe READMEs are generally well-written and provide a good introduction to each project. They often include installation instructions, usage guides, and links to relevant resources. However, some READMEs could be improved by including more detailed information on the project's goals, design decisions, and limitations.\\n\\n**Testing and Debugging**\\n\\nIt appears that some projects have unit tests or integration tests, which is a good practice. However, it's unclear whether all projects have comprehensive testing and debugging setups in place.\\n\\n**Collaboration and Contributions**\\n\\nThe repository doesn't appear to have any collaborative contributions or open-source projects. This might be due to the repository's personal nature or the developer's preference to keep their projects closed-source.\\n\\n**Conclusion**\\n\\nOverall, the GitHub repository is well-organized, and the projects showcase the developer's versatility and skill in various programming languages and technologies. While there are areas for improvement, such as code readability and testing, the repository provides a good representation of the developer's work.\\n\\nSome suggestions for improvement:\\n\\n1. Consistently use a coding style guide across all projects.\\n2. Provide more detailed documentation and READMEs for each project.\\n3. Implement comprehensive testing and debugging setups for all projects.\\n4. Consider opening some projects as open-source to encourage collaboration and feedback.\\n\\nI hope this review is helpful!\", additional_kwargs={}, response_metadata={'token_usage': {'completion_tokens': 565, 'prompt_tokens': 25, 'total_tokens': 590, 'completion_time': 0.738363571, 'prompt_time': 0.005647804, 'queue_time': 0.279589493, 'total_time': 0.744011375}, 'model_name': 'llama3-8b-8192', 'system_fingerprint': 'fp_8dc6ecaf8e', 'finish_reason': 'stop', 'logprobs': None}, id='run--b819e99e-dd48-4ac9-839d-0d6e8ee8145b-0', usage_metadata={'input_tokens': 25, 'output_tokens': 565, 'total_tokens': 590})]}"
      ]
     },
     "execution_count": 13,
     "metadata": {},
     "output_type": "execute_result"
    }
   ],
   "source": [
    "graph.invoke({\"messages\":\"https://github.com/SangamSilwal can you review this github repo\"})"
   ]
  }
 ],
 "metadata": {
  "kernelspec": {
   "display_name": "agenticLanggraph",
   "language": "python",
   "name": "python3"
  },
  "language_info": {
   "codemirror_mode": {
    "name": "ipython",
    "version": 3
   },
   "file_extension": ".py",
   "mimetype": "text/x-python",
   "name": "python",
   "nbconvert_exporter": "python",
   "pygments_lexer": "ipython3",
   "version": "3.13.2"
  }
 },
 "nbformat": 4,
 "nbformat_minor": 5
}
